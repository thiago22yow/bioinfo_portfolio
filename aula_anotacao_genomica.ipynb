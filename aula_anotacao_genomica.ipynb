{
  "nbformat": 4,
  "nbformat_minor": 0,
  "metadata": {
    "colab": {
      "provenance": [],
      "authorship_tag": "ABX9TyPD4k2GbbaMS4dh8ZzfV5dS",
      "include_colab_link": true
    },
    "kernelspec": {
      "name": "python3",
      "display_name": "Python 3"
    },
    "language_info": {
      "name": "python"
    }
  },
  "cells": [
    {
      "cell_type": "markdown",
      "metadata": {
        "id": "view-in-github",
        "colab_type": "text"
      },
      "source": [
        "<a href=\"https://colab.research.google.com/github/thiago22yow/bioinfo_portfolio/blob/main/aula_anotacao_genomica.ipynb\" target=\"_parent\"><img src=\"https://colab.research.google.com/assets/colab-badge.svg\" alt=\"Open In Colab\"/></a>"
      ]
    },
    {
      "cell_type": "markdown",
      "source": [
        "**Anotação genômica e funcional de genoma.**\n",
        "\n",
        "Nesta aula, exploraremos como realizar a anotação genômica e funcional de proteínas utilizando as ferramentas Prodigal e  InterProScan. A anotação funcional é uma etapa essencial na análise de dados genômicos e proteômicos, permitindo que associemos sequências biológicas a funções conhecidas, como domínios proteicos, famílias de proteínas e termos de ontologia genética (Gene Ontology - GO).\n",
        "\n",
        "**Objetivos**\n",
        "\n",
        "*   Realizar a predição gênica em um genoma\n",
        "*   Submeter sequências de proteínas para análise funcional usando a API REST do InterProScan.\n",
        "*   Interpretar e explorar os resultados da anotação funcional.\n",
        "\n",
        "Ao final desta aula, você terá adquirido uma compreensão prática de como realizar predição gênica a partir de um genoma e executar a anotação funcional de proteínas e interpretar os resultados em termos biológicos."
      ],
      "metadata": {
        "id": "NvuqveKm5A8w"
      }
    },
    {
      "cell_type": "markdown",
      "source": [
        "**1. Ambiente de Trabalho: Instalação de Dependências.**\n",
        "Vamos começar instalando os pacotes necessários: Prodigal, Biopython e requests."
      ],
      "metadata": {
        "id": "wmOKZkGuhtvS"
      }
    },
    {
      "cell_type": "code",
      "execution_count": 1,
      "metadata": {
        "colab": {
          "base_uri": "https://localhost:8080/"
        },
        "id": "6d7qDMxjhnvH",
        "outputId": "e6888875-12e6-4622-9eb6-5012305ef27f"
      },
      "outputs": [
        {
          "output_type": "stream",
          "name": "stdout",
          "text": [
            "Reading package lists... Done\n",
            "Building dependency tree... Done\n",
            "Reading state information... Done\n",
            "The following NEW packages will be installed:\n",
            "  prodigal\n",
            "0 upgraded, 1 newly installed, 0 to remove and 49 not upgraded.\n",
            "Need to get 640 kB of archives.\n",
            "After this operation, 12.3 MB of additional disk space will be used.\n",
            "Get:1 http://archive.ubuntu.com/ubuntu jammy/universe amd64 prodigal amd64 1:2.6.3-5 [640 kB]\n",
            "Fetched 640 kB in 1s (562 kB/s)\n",
            "Selecting previously unselected package prodigal.\n",
            "(Reading database ... 123622 files and directories currently installed.)\n",
            "Preparing to unpack .../prodigal_1%3a2.6.3-5_amd64.deb ...\n",
            "Unpacking prodigal (1:2.6.3-5) ...\n",
            "Setting up prodigal (1:2.6.3-5) ...\n",
            "Processing triggers for man-db (2.10.2-1) ...\n",
            "Collecting biopython\n",
            "  Downloading biopython-1.84-cp310-cp310-manylinux_2_17_x86_64.manylinux2014_x86_64.whl.metadata (12 kB)\n",
            "Requirement already satisfied: numpy in /usr/local/lib/python3.10/dist-packages (from biopython) (1.26.4)\n",
            "Downloading biopython-1.84-cp310-cp310-manylinux_2_17_x86_64.manylinux2014_x86_64.whl (3.2 MB)\n",
            "\u001b[2K   \u001b[90m━━━━━━━━━━━━━━━━━━━━━━━━━━━━━━━━━━━━━━━━\u001b[0m \u001b[32m3.2/3.2 MB\u001b[0m \u001b[31m31.4 MB/s\u001b[0m eta \u001b[36m0:00:00\u001b[0m\n",
            "\u001b[?25hInstalling collected packages: biopython\n",
            "Successfully installed biopython-1.84\n",
            "Requirement already satisfied: requests in /usr/local/lib/python3.10/dist-packages (2.32.3)\n",
            "Requirement already satisfied: charset-normalizer<4,>=2 in /usr/local/lib/python3.10/dist-packages (from requests) (3.4.0)\n",
            "Requirement already satisfied: idna<4,>=2.5 in /usr/local/lib/python3.10/dist-packages (from requests) (3.10)\n",
            "Requirement already satisfied: urllib3<3,>=1.21.1 in /usr/local/lib/python3.10/dist-packages (from requests) (2.2.3)\n",
            "Requirement already satisfied: certifi>=2017.4.17 in /usr/local/lib/python3.10/dist-packages (from requests) (2024.8.30)\n"
          ]
        }
      ],
      "source": [
        "# Instalação das ferramentas\n",
        "!apt-get install prodigal\n",
        "!pip install biopython\n",
        "!pip install requests"
      ]
    },
    {
      "cell_type": "markdown",
      "source": [
        "**2. Download do Genoma.** Vamos baixar o genoma de Enterobacteria phage N4 de um repositório público, o NCBI."
      ],
      "metadata": {
        "id": "-W22QvYfhzfL"
      }
    },
    {
      "cell_type": "code",
      "source": [
        "# Baixar genomas de Enterobacteria phage N4\n",
        "!wget -O phage_n4.fna.gz \"https://ftp.ncbi.nlm.nih.gov/genomes/all/GCF/000/867/865/GCF_000867865.1_ViralProj18511/GCF_000867865.1_ViralProj18511_genomic.fna.gz\"\n",
        "\n",
        "# Descompactar o arquivo .gz\n",
        "!gunzip phage_n4.fna.gz\n",
        "\n"
      ],
      "metadata": {
        "colab": {
          "base_uri": "https://localhost:8080/"
        },
        "id": "dRrF7IpNh3Ah",
        "outputId": "3046f01f-1bcf-4162-874b-95f13b39e9dd"
      },
      "execution_count": 2,
      "outputs": [
        {
          "output_type": "stream",
          "name": "stdout",
          "text": [
            "--2024-10-22 22:38:56--  https://ftp.ncbi.nlm.nih.gov/genomes/all/GCF/000/867/865/GCF_000867865.1_ViralProj18511/GCF_000867865.1_ViralProj18511_genomic.fna.gz\n",
            "Resolving ftp.ncbi.nlm.nih.gov (ftp.ncbi.nlm.nih.gov)... 130.14.250.13, 130.14.250.31, 130.14.250.7, ...\n",
            "Connecting to ftp.ncbi.nlm.nih.gov (ftp.ncbi.nlm.nih.gov)|130.14.250.13|:443... connected.\n",
            "HTTP request sent, awaiting response... 200 OK\n",
            "Length: 21530 (21K) [application/x-gzip]\n",
            "Saving to: ‘phage_n4.fna.gz’\n",
            "\n",
            "phage_n4.fna.gz     100%[===================>]  21.03K  --.-KB/s    in 0.06s   \n",
            "\n",
            "2024-10-22 22:38:56 (362 KB/s) - ‘phage_n4.fna.gz’ saved [21530/21530]\n",
            "\n"
          ]
        }
      ]
    },
    {
      "cell_type": "markdown",
      "source": [
        "**3. Predição gênica do genoma com Prodigal.**\n",
        "O Prodigal será utilizado para a predição de genes e proteínas codificantes."
      ],
      "metadata": {
        "id": "AuQ12L5Yh7Fw"
      }
    },
    {
      "cell_type": "code",
      "source": [
        "# Anotação do genoma de Enterobacteria phage N4\n",
        "!prodigal -i phage_n4.fna -a phage_n4_proteins.faa -o phage_n4.genes -p meta\n"
      ],
      "metadata": {
        "colab": {
          "base_uri": "https://localhost:8080/"
        },
        "id": "cB1oR6bth-bp",
        "outputId": "dd3e809f-8c8a-49d3-9c29-45a290b44740"
      },
      "execution_count": 3,
      "outputs": [
        {
          "output_type": "stream",
          "name": "stdout",
          "text": [
            "-------------------------------------\n",
            "PRODIGAL v2.6.3 [February, 2016]         \n",
            "Univ of Tenn / Oak Ridge National Lab\n",
            "Doug Hyatt, Loren Hauser, et al.     \n",
            "-------------------------------------\n",
            "Request:  Metagenomic, Phase:  Training\n",
            "Initializing training files...done!\n",
            "-------------------------------------\n",
            "Request:  Metagenomic, Phase:  Gene Finding\n",
            "Finding genes in sequence #1 (70153 bp)...done!\n"
          ]
        }
      ]
    },
    {
      "cell_type": "markdown",
      "source": [
        "**4. Vistoriar as proteínas.** Contar as proteínas e ver uma amostra"
      ],
      "metadata": {
        "id": "YkHE-9-33UGw"
      }
    },
    {
      "cell_type": "code",
      "source": [
        "# Contar a quantidade de proteínas preditas\n",
        "!echo \"O arquivo contém $(grep -c \">\" phage_n4_proteins.faa) proteinas\"\n",
        "\n",
        "# Exibir 20 linhas do arquivo\n",
        "!echo \"Amostra do arquivo:\"\n",
        "!head phage_n4_proteins.faa -n 20"
      ],
      "metadata": {
        "colab": {
          "base_uri": "https://localhost:8080/"
        },
        "id": "Monr5RbI91iH",
        "outputId": "41a9e3d2-584a-44c1-ebe8-a34c8089880e"
      },
      "execution_count": 4,
      "outputs": [
        {
          "output_type": "stream",
          "name": "stdout",
          "text": [
            "O arquivo contém 72 proteinas\n",
            "Amostra do arquivo:\n",
            ">NC_008720.1_1 # 154 # 480 # 1 # ID=1_1;partial=00;start_type=ATG;rbs_motif=GGAG/GAGG;rbs_spacer=5-10bp;gc_cont=0.364\n",
            "MTTQANVRMTVGTLLGTVNEAATTVADTFGTATKAVGMLNRYVTKQADKQIIRDKLEMHE\n",
            "FTNKLIEETAMQEAIRQKQILDFCKDEQNKELFSNAYDRLSKILADSK*\n",
            ">NC_008720.1_2 # 586 # 1071 # 1 # ID=1_2;partial=00;start_type=ATG;rbs_motif=GGA/GAG/AGG;rbs_spacer=5-10bp;gc_cont=0.409\n",
            "MHPILYEILTFCLGLLTDKVVSTNQNQLSGEYKMAITTFAKTFGQASTKTESNNGSRPKA\n",
            "QFWINVGYVANEGTEDERFISLPTGIPLDTQEHLPTNSSNEDFRAMRCAQNDLLDQLMEF\n",
            "AKTLEPGQEGVISLQVQLRRVKEEAPAISASENKYARKLTF*\n",
            ">NC_008720.1_3 # 1214 # 1528 # 1 # ID=1_3;partial=00;start_type=ATG;rbs_motif=AGGA;rbs_spacer=5-10bp;gc_cont=0.403\n",
            "MHPLIKRFLMDYQEWLDNGASEPHYLFDRGSGLCVQLGKYLRRQPISEETVDALCKSFTH\n",
            "LLPDNDTNLPFNVDVLDYMMECSDGRCHLNQSRINWIKSQLESK*\n",
            ">NC_008720.1_4 # 1532 # 1969 # 1 # ID=1_4;partial=00;start_type=ATG;rbs_motif=GGA/GAG/AGG;rbs_spacer=5-10bp;gc_cont=0.386\n",
            "MSYEIVKHWTSKVGLRAWVLLVNGGSHHCGYVEIPEALLDKNFYDYICDDEETLHIAVHG\n",
            "GVTYQGVPQWADGVKVIGYDCAHAGDKLKCPKQFIGSLREKLYEDSYGVWRDEEYCINEC\n",
            "ESMADQLINLIPKLGFNDEIQNSNG*\n",
            ">NC_008720.1_5 # 1944 # 2141 # 1 # ID=1_5;partial=00;start_type=ATG;rbs_motif=GGA/GAG/AGG;rbs_spacer=5-10bp;gc_cont=0.288\n",
            "MKFRTVMVNALDTRGNEIISYKVQGFKWFKWKTLTSFKEFEKDKAIKLTKKLNQRKKIKL\n",
            "VTVIK*\n",
            ">NC_008720.1_6 # 2152 # 2310 # 1 # ID=1_6;partial=00;start_type=ATG;rbs_motif=AGGA;rbs_spacer=5-10bp;gc_cont=0.384\n",
            "MRKSLIMGTKEDVAKMKAKRQMNKAVTFAERYSTSEPVRRIVTFNHPAIKGM*\n",
            ">NC_008720.1_7 # 2310 # 2519 # 1 # ID=1_7;partial=00;start_type=ATG;rbs_motif=GGA/GAG/AGG;rbs_spacer=5-10bp;gc_cont=0.367\n"
          ]
        }
      ]
    },
    {
      "cell_type": "markdown",
      "source": [
        "**5. Realizar a anotação funcional das proteínas preditas.** O InterProScan será utilizado."
      ],
      "metadata": {
        "id": "k9QO6OgA3gtA"
      }
    },
    {
      "cell_type": "code",
      "source": [
        "import requests\n",
        "import time\n",
        "import sys\n",
        "\n",
        "# Função para remover asteriscos das sequências\n",
        "def remover_asteriscos(fasta_data):\n",
        "    return fasta_data.replace('*', '')\n",
        "\n",
        "# Função para submeter as sequências FASTA ao InterProScan usando a API REST\n",
        "def submit_interproscan(fasta_file):\n",
        "    url = 'https://www.ebi.ac.uk/Tools/services/rest/iprscan5/run'\n",
        "    headers = {'User-Agent': 'Colab Python Client'}\n",
        "\n",
        "    # Abrir o arquivo FASTA para leitura e garantir que ele está no formato correto\n",
        "    with open(fasta_file, 'r') as f:\n",
        "        fasta_data = f.read().strip()\n",
        "\n",
        "    # Remover asteriscos da sequência\n",
        "    fasta_data = remover_asteriscos(fasta_data)\n",
        "\n",
        "    # Definir os parâmetros da requisição corretamente\n",
        "    params = {\n",
        "        'email': 'seu-email@example.com',  # Substitua pelo seu e-mail\n",
        "        'title': 'InterProScan Job from Colab',\n",
        "        'sequence': fasta_data,\n",
        "        'format': 'tsv',  # Formato de saída\n",
        "        'stype': 'p'  # Tipo de sequência (proteína - 'p')\n",
        "    }\n",
        "\n",
        "    # Submeter a requisição POST\n",
        "    response = requests.post(url, data=params, headers=headers)\n",
        "\n",
        "    # Verificar o status da submissão\n",
        "    if response.status_code == 200:\n",
        "        job_id = response.text\n",
        "        print(f\"Job ID: {job_id}\")\n",
        "        return job_id\n",
        "    else:\n",
        "        print(f\"Erro ao submeter as sequências: {response.status_code}\")\n",
        "        print(f\"Detalhes: {response.text}\")\n",
        "        sys.exit()\n",
        "\n",
        "# Função para verificar o status do job\n",
        "def check_status(job_id):\n",
        "    status_url = f'https://www.ebi.ac.uk/Tools/services/rest/iprscan5/status/{job_id}'\n",
        "    while True:\n",
        "        response = requests.get(status_url)\n",
        "        status = response.text\n",
        "        if status == 'FINISHED':\n",
        "            print(\"Job concluído!\")\n",
        "            return True\n",
        "        elif status in ['RUNNING', 'PENDING']:\n",
        "            print(f\"Status: {status}. Aguardando conclusão...\")\n",
        "            time.sleep(10)\n",
        "        else:\n",
        "            print(f\"Erro: Status do Job = {status}\")\n",
        "            sys.exit()\n",
        "\n",
        "# Função para baixar os resultados do job\n",
        "def download_results(job_id, output_file_name):\n",
        "    result_url = f'https://www.ebi.ac.uk/Tools/services/rest/iprscan5/result/{job_id}/tsv'\n",
        "\n",
        "    # Baixar os resultados\n",
        "    response = requests.get(result_url)\n",
        "\n",
        "    # Salvar os resultados no arquivo especificado\n",
        "    result_file = f\"{output_file_name}.tsv\"\n",
        "    with open(result_file, 'w') as f:\n",
        "        f.write(response.text)\n",
        "\n",
        "    print(f\"Resultados salvos no arquivo: {result_file}\")\n",
        "    return result_file\n",
        "\n",
        "# Função principal\n",
        "def main(fasta_file, output_file_name):\n",
        "    # 1. Submeter o arquivo FASTA para o InterProScan via API REST\n",
        "    job_id = submit_interproscan(fasta_file)\n",
        "\n",
        "    # 2. Aguardar até que o job seja concluído\n",
        "    check_status(job_id)\n",
        "\n",
        "    # 3. Baixar os resultados e salvar no arquivo especificado\n",
        "    download_results(job_id, output_file_name)\n",
        "\n",
        "# Executar o script com o arquivo .faa e nome do arquivo de saída\n",
        "fasta_file = \"phage_n4_proteins.faa\"  # Nome do arquivo FASTA que foi carregado\n",
        "output_file_name = \"interproscan_m_pox_results\"  # Nome desejado para o arquivo de saída\n",
        "main(fasta_file, output_file_name)\n"
      ],
      "metadata": {
        "colab": {
          "base_uri": "https://localhost:8080/"
        },
        "id": "kfvgb1y7NUyV",
        "outputId": "8dbe680d-a76f-4480-da7a-a041521570f6"
      },
      "execution_count": 5,
      "outputs": [
        {
          "output_type": "stream",
          "name": "stdout",
          "text": [
            "Job ID: iprscan5-R20241022-234009-0250-25796876-p1m\n",
            "Status: RUNNING. Aguardando conclusão...\n",
            "Status: RUNNING. Aguardando conclusão...\n",
            "Status: RUNNING. Aguardando conclusão...\n",
            "Status: RUNNING. Aguardando conclusão...\n",
            "Status: RUNNING. Aguardando conclusão...\n",
            "Status: RUNNING. Aguardando conclusão...\n",
            "Status: RUNNING. Aguardando conclusão...\n",
            "Status: RUNNING. Aguardando conclusão...\n",
            "Status: RUNNING. Aguardando conclusão...\n",
            "Status: RUNNING. Aguardando conclusão...\n",
            "Status: RUNNING. Aguardando conclusão...\n",
            "Status: RUNNING. Aguardando conclusão...\n",
            "Status: RUNNING. Aguardando conclusão...\n",
            "Job concluído!\n",
            "Resultados salvos no arquivo: interproscan_m_pox_results.tsv\n"
          ]
        }
      ]
    },
    {
      "cell_type": "markdown",
      "source": [
        "**6. Visualização dos Resultados.**\n",
        "Podemos dar uma olhada nas primeiras linhas do arquivo contendo as anotações funcionais."
      ],
      "metadata": {
        "id": "so9tf9hBiRDH"
      }
    },
    {
      "cell_type": "code",
      "source": [
        "# Exibir 20 linhas do arquivo\n",
        "!head interproscan_m_pox_results.tsv -n 20"
      ],
      "metadata": {
        "colab": {
          "base_uri": "https://localhost:8080/"
        },
        "id": "LFsKLZlF4mWG",
        "outputId": "f386588b-52eb-499f-b2f9-b83901235072"
      },
      "execution_count": 6,
      "outputs": [
        {
          "output_type": "stream",
          "name": "stdout",
          "text": [
            "NC_008720.1_48\teea1298b8609d6a4e28470663aae967e\t123\tPfam\tPF13876\tPhage protein (N4 Gp49/phage Sf6 gene 66) family\t4\t97\t2.8E-31\tT\t22-10-2024\tIPR025915\tPhage protein (N4 Gp49/phage Sf6 gene 66) family\t-\t-\n",
            "NC_008720.1_36\tb097c72d681312127b44ed1192ba2aa4\t109\tGene3D\tG3DSA:1.10.3420.10\tputative ntp pyrophosphohydrolase like domain\t3\t109\t3.2E-20\tT\t22-10-2024\tIPR023292\tNTP pyrophosphohydrolase-like domain superfamily\t-\t-\n",
            "NC_008720.1_59\t58495e035da2434c7d89191268d1b034\t763\tCoils\tCoil\tCoil\t618\t663\t-\tT\t22-10-2024\t-\t-\t-\t-\n",
            "NC_008720.1_39\t3f88522bfd3eb3a132b8b616df7d4608\t859\tCoils\tCoil\tCoil\t432\t452\t-\tT\t22-10-2024\t-\t-\t-\t-\n",
            "NC_008720.1_39\t3f88522bfd3eb3a132b8b616df7d4608\t859\tPRINTS\tPR00868\tDNA-polymerase family A (pol I) signature\t538\t560\t5.2E-10\tT\t22-10-2024\tIPR002298\tDNA polymerase A\tGO:0003887(InterPro)|GO:0006261(InterPro)\tMetaCyc:PWY-7250|Reactome:R-DME-5685939|Reactome:R-HSA-5685939|Reactome:R-HSA-6783310|Reactome:R-MMU-5685939|Reactome:R-MMU-6783310\n",
            "NC_008720.1_39\t3f88522bfd3eb3a132b8b616df7d4608\t859\tPRINTS\tPR00868\tDNA-polymerase family A (pol I) signature\t561\t576\t5.2E-10\tT\t22-10-2024\tIPR002298\tDNA polymerase A\tGO:0003887(InterPro)|GO:0006261(InterPro)\tMetaCyc:PWY-7250|Reactome:R-DME-5685939|Reactome:R-HSA-5685939|Reactome:R-HSA-6783310|Reactome:R-MMU-5685939|Reactome:R-MMU-6783310\n",
            "NC_008720.1_39\t3f88522bfd3eb3a132b8b616df7d4608\t859\tPRINTS\tPR00868\tDNA-polymerase family A (pol I) signature\t583\t606\t5.2E-10\tT\t22-10-2024\tIPR002298\tDNA polymerase A\tGO:0003887(InterPro)|GO:0006261(InterPro)\tMetaCyc:PWY-7250|Reactome:R-DME-5685939|Reactome:R-HSA-5685939|Reactome:R-HSA-6783310|Reactome:R-MMU-5685939|Reactome:R-MMU-6783310\n",
            "NC_008720.1_39\t3f88522bfd3eb3a132b8b616df7d4608\t859\tPRINTS\tPR00868\tDNA-polymerase family A (pol I) signature\t613\t626\t5.2E-10\tT\t22-10-2024\tIPR002298\tDNA polymerase A\tGO:0003887(InterPro)|GO:0006261(InterPro)\tMetaCyc:PWY-7250|Reactome:R-DME-5685939|Reactome:R-HSA-5685939|Reactome:R-HSA-6783310|Reactome:R-MMU-5685939|Reactome:R-MMU-6783310\n",
            "NC_008720.1_39\t3f88522bfd3eb3a132b8b616df7d4608\t859\tPRINTS\tPR00868\tDNA-polymerase family A (pol I) signature\t709\t720\t5.2E-10\tT\t22-10-2024\tIPR002298\tDNA polymerase A\tGO:0003887(InterPro)|GO:0006261(InterPro)\tMetaCyc:PWY-7250|Reactome:R-DME-5685939|Reactome:R-HSA-5685939|Reactome:R-HSA-6783310|Reactome:R-MMU-5685939|Reactome:R-MMU-6783310\n",
            "NC_008720.1_39\t3f88522bfd3eb3a132b8b616df7d4608\t859\tGene3D\tG3DSA:1.10.150.20\t-\t592\t754\t7.8E-35\tT\t22-10-2024\t-\t-\t-\t-\n",
            "NC_008720.1_39\t3f88522bfd3eb3a132b8b616df7d4608\t859\tCoils\tCoil\tCoil\t632\t652\t-\tT\t22-10-2024\t-\t-\t-\t-\n",
            "NC_008720.1_39\t3f88522bfd3eb3a132b8b616df7d4608\t859\tSUPERFAMILY\tSSF53098\tRibonuclease H-like\t164\t369\t5.96E-14\tT\t22-10-2024\tIPR012337\tRibonuclease H-like superfamily\t-\tMetaCyc:PWY-5397|MetaCyc:PWY-5509|MetaCyc:PWY-6269|MetaCyc:PWY-6289|MetaCyc:PWY-6322|MetaCyc:PWY-6462|MetaCyc:PWY-6463|MetaCyc:PWY-6626|MetaCyc:PWY-6682|MetaCyc:PWY-6689|MetaCyc:PWY-6749|MetaCyc:PWY-6841|MetaCyc:PWY-6955|MetaCyc:PWY-6998|MetaCyc:PWY-7127|MetaCyc:PWY-7419|MetaCyc:PWY-7529|MetaCyc:PWY-7706|MetaCyc:PWY-7719|MetaCyc:PWY-7735|MetaCyc:PWY-7737|MetaCyc:PWY-7769|MetaCyc:PWY-7815|MetaCyc:PWY-7816|MetaCyc:PWY-7817|MetaCyc:PWY-7818|MetaCyc:PWY-7884|MetaCyc:PWY-7887|MetaCyc:PWY-7888|MetaCyc:PWY-7904|MetaCyc:PWY-7961|MetaCyc:PWY-7963|MetaCyc:PWY-7964|MetaCyc:PWY-7965|MetaCyc:PWY-7966|MetaCyc:PWY-7967|MetaCyc:PWY-7968|MetaCyc:PWY-7969|MetaCyc:PWY-7970|MetaCyc:PWY-7975|MetaCyc:PWY-8117|MetaCyc:PWY-8179|Reactome:R-BTA-429947|Reactome:R-BTA-6791226|Reactome:R-BTA-6804115|Reactome:R-CEL-110314|Reactome:R-CEL-112382|Reactome:R-CEL-203927|Reactome:R-CEL-426486|Reactome:R-CEL-5578749|Reactome:R-CEL-5651801|Reactome:R-CEL-5656169|Reactome:R-CEL-5696397|Reactome:R-CEL-5696400|Reactome:R-CEL-674695|Reactome:R-CEL-6782135|Reactome:R-CEL-6782210|Reactome:R-CEL-6791226|Reactome:R-CEL-69091|Reactome:R-CEL-69166|Reactome:R-CEL-69183|Reactome:R-CEL-72163|Reactome:R-CEL-72165|Reactome:R-CEL-75955|Reactome:R-DDI-110314|Reactome:R-DDI-113501|Reactome:R-DDI-5651801|Reactome:R-DDI-5656169|Reactome:R-DDI-5696397|Reactome:R-DDI-6782135|Reactome:R-DDI-6782210|Reactome:R-DDI-68952|Reactome:R-DDI-68962|Reactome:R-DDI-69091|Reactome:R-DDI-69166|Reactome:R-DDI-69183|Reactome:R-DDI-72163|Reactome:R-DME-110312|Reactome:R-DME-110314|Reactome:R-DME-112382|Reactome:R-DME-113501|Reactome:R-DME-203927|Reactome:R-DME-426486|Reactome:R-DME-426496|Reactome:R-DME-5578749|Reactome:R-DME-5651801|Reactome:R-DME-5655862|Reactome:R-DME-5656121|Reactome:R-DME-5656169|Reactome:R-DME-5696400|Reactome:R-DME-674695|Reactome:R-DME-6782135|Reactome:R-DME-6791226|Reactome:R-DME-68952|Reactome:R-DME-68962|Reactome:R-DME-69091|Reactome:R-DME-69166|Reactome:R-DME-69183|Reactome:R-DME-75955|Reactome:R-DRE-6804115|Reactome:R-GGA-203927|Reactome:R-GGA-426486|Reactome:R-GGA-426496|Reactome:R-GGA-429947|Reactome:R-GGA-6804115|Reactome:R-HSA-110312|Reactome:R-HSA-110314|Reactome:R-HSA-112382|Reactome:R-HSA-113501|Reactome:R-HSA-162585|Reactome:R-HSA-162588|Reactome:R-HSA-162592|Reactome:R-HSA-162594|Reactome:R-HSA-164516|Reactome:R-HSA-164525|Reactome:R-HSA-164843|Reactome:R-HSA-173107|Reactome:R-HSA-174411|Reactome:R-HSA-174414|Reactome:R-HSA-174417|Reactome:R-HSA-174430|Reactome:R-HSA-174437|Reactome:R-HSA-175474|Reactome:R-HSA-175567|Reactome:R-HSA-177539|Reactome:R-HSA-180689|Reactome:R-HSA-180910|Reactome:R-HSA-1912408|Reactome:R-HSA-203927|Reactome:R-HSA-2559580|Reactome:R-HSA-2559585|Reactome:R-HSA-2564830|Reactome:R-HSA-3108214|Reactome:R-HSA-3248023|Reactome:R-HSA-3270619|Reactome:R-HSA-380994|Reactome:R-HSA-4086398|Reactome:R-HSA-426486|Reactome:R-HSA-426496|Reactome:R-HSA-429947|Reactome:R-HSA-450604|Reactome:R-HSA-4551638|Reactome:R-HSA-5358565|Reactome:R-HSA-5358606|Reactome:R-HSA-5578749|Reactome:R-HSA-5601884|Reactome:R-HSA-5628897|Reactome:R-HSA-5651801|Reactome:R-HSA-5655862|Reactome:R-HSA-5656121|Reactome:R-HSA-5656169|Reactome:R-HSA-5685938|Reactome:R-HSA-5685939|Reactome:R-HSA-5685942|Reactome:R-HSA-5687128|Reactome:R-HSA-5693554|Reactome:R-HSA-5693568|Reactome:R-HSA-5693579|Reactome:R-HSA-5693607|Reactome:R-HSA-5693616|Reactome:R-HSA-5696397|Reactome:R-HSA-5696400|Reactome:R-HSA-674695|Reactome:R-HSA-6782135|Reactome:R-HSA-6782210|Reactome:R-HSA-6791226|Reactome:R-HSA-6802952|Reactome:R-HSA-6803529|Reactome:R-HSA-6804115|Reactome:R-HSA-6804756|Reactome:R-HSA-68952|Reactome:R-HSA-68962|Reactome:R-HSA-69091|Reactome:R-HSA-69166|Reactome:R-HSA-69183|Reactome:R-HSA-69205|Reactome:R-HSA-69473|Reactome:R-HSA-72163|Reactome:R-HSA-72165|Reactome:R-HSA-75955|Reactome:R-HSA-8853884|Reactome:R-HSA-8934593|Reactome:R-HSA-8936459|Reactome:R-HSA-8943723|Reactome:R-HSA-8948700|Reactome:R-HSA-8986944|Reactome:R-HSA-9018519|Reactome:R-HSA-9022692|Reactome:R-HSA-9029569|Reactome:R-HSA-909733|Reactome:R-HSA-9609690|Reactome:R-HSA-9610379|Reactome:R-HSA-9701192|Reactome:R-HSA-9704331|Reactome:R-HSA-9704646|Reactome:R-HSA-9709570|Reactome:R-HSA-9709603|Reactome:R-HSA-9710421|Reactome:R-HSA-9725371|Reactome:R-HSA-9759811|Reactome:R-HSA-9768778|Reactome:R-HSA-9820841|Reactome:R-HSA-9824594|Reactome:R-HSA-9836573|Reactome:R-HSA-9839394|Reactome:R-HSA-9845323|Reactome:R-MMU-110312|Reactome:R-MMU-110314|Reactome:R-MMU-112382|Reactome:R-MMU-113501|Reactome:R-MMU-174411|Reactome:R-MMU-174414|Reactome:R-MMU-174417|Reactome:R-MMU-174430|Reactome:R-MMU-174437|Reactome:R-MMU-203927|Reactome:R-MMU-426486|Reactome:R-MMU-426496|Reactome:R-MMU-429947|Reactome:R-MMU-450604|Reactome:R-MMU-5358565|Reactome:R-MMU-5358606|Reactome:R-MMU-5578749|Reactome:R-MMU-5651801|Reactome:R-MMU-5655862|Reactome:R-MMU-5656121|Reactome:R-MMU-5656169|Reactome:R-MMU-5685938|Reactome:R-MMU-5685939|Reactome:R-MMU-5685942|Reactome:R-MMU-5693568|Reactome:R-MMU-5693579|Reactome:R-MMU-5693607|Reactome:R-MMU-5693616|Reactome:R-MMU-5696397|Reactome:R-MMU-5696400|Reactome:R-MMU-674695|Reactome:R-MMU-6782135|Reactome:R-MMU-6782210|Reactome:R-MMU-6791226|Reactome:R-MMU-6804115|Reactome:R-MMU-6804756|Reactome:R-MMU-68952|Reactome:R-MMU-68962|Reactome:R-MMU-69091|Reactome:R-MMU-69166|Reactome:R-MMU-69183|Reactome:R-MMU-69473|Reactome:R-MMU-72163|Reactome:R-MMU-72165|Reactome:R-MMU-75955|Reactome:R-RNO-110314|Reactome:R-RNO-113501|Reactome:R-RNO-174411|Reactome:R-RNO-174414|Reactome:R-RNO-174417|Reactome:R-RNO-174430|Reactome:R-RNO-174437|Reactome:R-RNO-203927|Reactome:R-RNO-426486|Reactome:R-RNO-426496|Reactome:R-RNO-429947|Reactome:R-RNO-5358565|Reactome:R-RNO-5358606|Reactome:R-RNO-5578749|Reactome:R-RNO-5651801|Reactome:R-RNO-5656169|Reactome:R-RNO-5685942|Reactome:R-RNO-5696397|Reactome:R-RNO-5696400|Reactome:R-RNO-6782135|Reactome:R-RNO-6782210|Reactome:R-RNO-6791226|Reactome:R-RNO-68952|Reactome:R-RNO-68962|Reactome:R-RNO-69091|Reactome:R-RNO-69166|Reactome:R-RNO-69183|Reactome:R-SCE-110312|Reactome:R-SCE-113501|Reactome:R-SCE-429947|Reactome:R-SCE-5655862|Reactome:R-SCE-5656121|Reactome:R-SCE-5656169|Reactome:R-SCE-6782135|Reactome:R-SCE-6791226|Reactome:R-SCE-68952|Reactome:R-SCE-68962|Reactome:R-SCE-69091|Reactome:R-SCE-69166|Reactome:R-SCE-69183|Reactome:R-SPO-110312|Reactome:R-SPO-110314|Reactome:R-SPO-113501|Reactome:R-SPO-174437|Reactome:R-SPO-426486|Reactome:R-SPO-426496|Reactome:R-SPO-5358565|Reactome:R-SPO-5358606|Reactome:R-SPO-5578749|Reactome:R-SPO-5651801|Reactome:R-SPO-5655862|Reactome:R-SPO-5656121|Reactome:R-SPO-5656169|Reactome:R-SPO-5696397|Reactome:R-SPO-5696400|Reactome:R-SPO-6782135|Reactome:R-SPO-6782210|Reactome:R-SPO-6791226|Reactome:R-SPO-68952|Reactome:R-SPO-68962|Reactome:R-SPO-69091|Reactome:R-SPO-69166|Reactome:R-SPO-69183|Reactome:R-XTR-203927|Reactome:R-XTR-426486|Reactome:R-XTR-426496|Reactome:R-XTR-429947|Reactome:R-XTR-5578749|Reactome:R-XTR-6804115\n",
            "NC_008720.1_39\t3f88522bfd3eb3a132b8b616df7d4608\t859\tGene3D\tG3DSA:3.30.70.370\t-\t547\t794\t7.8E-35\tT\t22-10-2024\t-\t-\t-\t-\n",
            "NC_008720.1_39\t3f88522bfd3eb3a132b8b616df7d4608\t859\tSMART\tSM00482\tpolaultra3\t569\t795\t5.1E-7\tT\t22-10-2024\tIPR001098\tDNA-directed DNA polymerase, family A, palm domain\tGO:0003677(InterPro)|GO:0003887(InterPro)|GO:0006260(InterPro)\tMetaCyc:PWY-5397|MetaCyc:PWY-7250|Reactome:R-DME-5685939|Reactome:R-HSA-5685939|Reactome:R-HSA-6783310|Reactome:R-MMU-5685939|Reactome:R-MMU-6783310\n",
            "NC_008720.1_39\t3f88522bfd3eb3a132b8b616df7d4608\t859\tPfam\tPF00476\tDNA polymerase family A\t433\t752\t2.8E-35\tT\t22-10-2024\tIPR001098\tDNA-directed DNA polymerase, family A, palm domain\tGO:0003677(InterPro)|GO:0003887(InterPro)|GO:0006260(InterPro)\tMetaCyc:PWY-5397|MetaCyc:PWY-7250|Reactome:R-DME-5685939|Reactome:R-HSA-5685939|Reactome:R-HSA-6783310|Reactome:R-MMU-5685939|Reactome:R-MMU-6783310\n",
            "NC_008720.1_39\t3f88522bfd3eb3a132b8b616df7d4608\t859\tPANTHER\tPTHR10133\tDNA POLYMERASE I\t181\t749\t2.1E-37\tT\t22-10-2024\tIPR002298\tDNA polymerase A\tGO:0003887(PANTHER)|GO:0003887(InterPro)|GO:0006261(InterPro)|GO:0006302(PANTHER)\tMetaCyc:PWY-7250|Reactome:R-DME-5685939|Reactome:R-HSA-5685939|Reactome:R-HSA-6783310|Reactome:R-MMU-5685939|Reactome:R-MMU-6783310\n",
            "NC_008720.1_39\t3f88522bfd3eb3a132b8b616df7d4608\t859\tGene3D\tG3DSA:3.30.420.10\t-\t164\t385\t5.7E-22\tT\t22-10-2024\tIPR036397\tRibonuclease H superfamily\tGO:0003676(InterPro)\tMetaCyc:PWY-5509|MetaCyc:PWY-6269|MetaCyc:PWY-6322|MetaCyc:PWY-6626|MetaCyc:PWY-6689|MetaCyc:PWY-6749|MetaCyc:PWY-6955|MetaCyc:PWY-6998|MetaCyc:PWY-7127|MetaCyc:PWY-7250|MetaCyc:PWY-7419|MetaCyc:PWY-7529|MetaCyc:PWY-7706|MetaCyc:PWY-7719|MetaCyc:PWY-7735|MetaCyc:PWY-7737|MetaCyc:PWY-7769|MetaCyc:PWY-7884|MetaCyc:PWY-7888|MetaCyc:PWY-7904|MetaCyc:PWY-7961|MetaCyc:PWY-7963|MetaCyc:PWY-7964|MetaCyc:PWY-7965|MetaCyc:PWY-7966|MetaCyc:PWY-7967|MetaCyc:PWY-7968|MetaCyc:PWY-7969|MetaCyc:PWY-7970|MetaCyc:PWY-7975|MetaCyc:PWY-8117|MetaCyc:PWY-8179|Reactome:R-BTA-429947|Reactome:R-BTA-6791226|Reactome:R-BTA-6804115|Reactome:R-CEL-110314|Reactome:R-CEL-203927|Reactome:R-CEL-426486|Reactome:R-CEL-5578749|Reactome:R-CEL-5651801|Reactome:R-CEL-5656169|Reactome:R-CEL-5696397|Reactome:R-CEL-5696400|Reactome:R-CEL-6782135|Reactome:R-CEL-6782210|Reactome:R-CEL-6791226|Reactome:R-CEL-69091|Reactome:R-CEL-69166|Reactome:R-CEL-69183|Reactome:R-DDI-110314|Reactome:R-DDI-113501|Reactome:R-DDI-5651801|Reactome:R-DDI-5656169|Reactome:R-DDI-5696397|Reactome:R-DDI-6782135|Reactome:R-DDI-6782210|Reactome:R-DDI-68952|Reactome:R-DDI-68962|Reactome:R-DDI-69091|Reactome:R-DDI-69166|Reactome:R-DDI-69183|Reactome:R-DME-110312|Reactome:R-DME-110314|Reactome:R-DME-113501|Reactome:R-DME-203927|Reactome:R-DME-426486|Reactome:R-DME-426496|Reactome:R-DME-5578749|Reactome:R-DME-5651801|Reactome:R-DME-5655862|Reactome:R-DME-5656121|Reactome:R-DME-5656169|Reactome:R-DME-5685939|Reactome:R-DME-5696400|Reactome:R-DME-6782135|Reactome:R-DME-6791226|Reactome:R-DME-68952|Reactome:R-DME-68962|Reactome:R-DME-69091|Reactome:R-DME-69166|Reactome:R-DME-69183|Reactome:R-DRE-6804115|Reactome:R-GGA-203927|Reactome:R-GGA-426486|Reactome:R-GGA-426496|Reactome:R-GGA-429947|Reactome:R-GGA-6804115|Reactome:R-HSA-110312|Reactome:R-HSA-110314|Reactome:R-HSA-113501|Reactome:R-HSA-162585|Reactome:R-HSA-162588|Reactome:R-HSA-162592|Reactome:R-HSA-162594|Reactome:R-HSA-164516|Reactome:R-HSA-164525|Reactome:R-HSA-164843|Reactome:R-HSA-173107|Reactome:R-HSA-174411|Reactome:R-HSA-174414|Reactome:R-HSA-174417|Reactome:R-HSA-174430|Reactome:R-HSA-174437|Reactome:R-HSA-175474|Reactome:R-HSA-175567|Reactome:R-HSA-177539|Reactome:R-HSA-180689|Reactome:R-HSA-180910|Reactome:R-HSA-1912408|Reactome:R-HSA-203927|Reactome:R-HSA-2559580|Reactome:R-HSA-2559585|Reactome:R-HSA-2564830|Reactome:R-HSA-3108214|Reactome:R-HSA-3248023|Reactome:R-HSA-3270619|Reactome:R-HSA-380994|Reactome:R-HSA-4086398|Reactome:R-HSA-426486|Reactome:R-HSA-426496|Reactome:R-HSA-429947|Reactome:R-HSA-450604|Reactome:R-HSA-5358565|Reactome:R-HSA-5358606|Reactome:R-HSA-5578749|Reactome:R-HSA-5601884|Reactome:R-HSA-5628897|Reactome:R-HSA-5651801|Reactome:R-HSA-5655862|Reactome:R-HSA-5656121|Reactome:R-HSA-5656169|Reactome:R-HSA-5685938|Reactome:R-HSA-5685939|Reactome:R-HSA-5685942|Reactome:R-HSA-5687128|Reactome:R-HSA-5693554|Reactome:R-HSA-5693568|Reactome:R-HSA-5693579|Reactome:R-HSA-5693607|Reactome:R-HSA-5693616|Reactome:R-HSA-5696397|Reactome:R-HSA-5696400|Reactome:R-HSA-6782135|Reactome:R-HSA-6782210|Reactome:R-HSA-6783310|Reactome:R-HSA-6791226|Reactome:R-HSA-6802952|Reactome:R-HSA-6803529|Reactome:R-HSA-6804115|Reactome:R-HSA-6804756|Reactome:R-HSA-68952|Reactome:R-HSA-68962|Reactome:R-HSA-69091|Reactome:R-HSA-69166|Reactome:R-HSA-69183|Reactome:R-HSA-69205|Reactome:R-HSA-69473|Reactome:R-HSA-8853884|Reactome:R-HSA-8934593|Reactome:R-HSA-8936459|Reactome:R-HSA-8943723|Reactome:R-HSA-8948700|Reactome:R-HSA-8986944|Reactome:R-HSA-9018519|Reactome:R-HSA-9022692|Reactome:R-HSA-9029569|Reactome:R-HSA-909733|Reactome:R-HSA-9609690|Reactome:R-HSA-9610379|Reactome:R-HSA-9701192|Reactome:R-HSA-9704331|Reactome:R-HSA-9704646|Reactome:R-HSA-9709570|Reactome:R-HSA-9709603|Reactome:R-HSA-9710421|Reactome:R-HSA-9725371|Reactome:R-HSA-9759811|Reactome:R-HSA-9768778|Reactome:R-HSA-9820841|Reactome:R-HSA-9824594|Reactome:R-HSA-9836573|Reactome:R-HSA-9839394|Reactome:R-HSA-9845323|Reactome:R-MMU-110312|Reactome:R-MMU-110314|Reactome:R-MMU-113501|Reactome:R-MMU-174411|Reactome:R-MMU-174414|Reactome:R-MMU-174417|Reactome:R-MMU-174430|Reactome:R-MMU-174437|Reactome:R-MMU-203927|Reactome:R-MMU-426486|Reactome:R-MMU-426496|Reactome:R-MMU-429947|Reactome:R-MMU-450604|Reactome:R-MMU-5358565|Reactome:R-MMU-5358606|Reactome:R-MMU-5578749|Reactome:R-MMU-5651801|Reactome:R-MMU-5655862|Reactome:R-MMU-5656121|Reactome:R-MMU-5656169|Reactome:R-MMU-5685938|Reactome:R-MMU-5685939|Reactome:R-MMU-5685942|Reactome:R-MMU-5693568|Reactome:R-MMU-5693579|Reactome:R-MMU-5693607|Reactome:R-MMU-5693616|Reactome:R-MMU-5696397|Reactome:R-MMU-5696400|Reactome:R-MMU-6782135|Reactome:R-MMU-6782210|Reactome:R-MMU-6783310|Reactome:R-MMU-6791226|Reactome:R-MMU-6804115|Reactome:R-MMU-6804756|Reactome:R-MMU-68952|Reactome:R-MMU-68962|Reactome:R-MMU-69091|Reactome:R-MMU-69166|Reactome:R-MMU-69183|Reactome:R-MMU-69473|Reactome:R-RNO-110314|Reactome:R-RNO-113501|Reactome:R-RNO-174411|Reactome:R-RNO-174414|Reactome:R-RNO-174417|Reactome:R-RNO-174430|Reactome:R-RNO-174437|Reactome:R-RNO-203927|Reactome:R-RNO-426486|Reactome:R-RNO-426496|Reactome:R-RNO-429947|Reactome:R-RNO-5358565|Reactome:R-RNO-5358606|Reactome:R-RNO-5578749|Reactome:R-RNO-5651801|Reactome:R-RNO-5656169|Reactome:R-RNO-5685942|Reactome:R-RNO-5696397|Reactome:R-RNO-5696400|Reactome:R-RNO-6782135|Reactome:R-RNO-6782210|Reactome:R-RNO-6791226|Reactome:R-RNO-68952|Reactome:R-RNO-68962|Reactome:R-RNO-69091|Reactome:R-RNO-69166|Reactome:R-RNO-69183|Reactome:R-SCE-110312|Reactome:R-SCE-113501|Reactome:R-SCE-429947|Reactome:R-SCE-5655862|Reactome:R-SCE-5656121|Reactome:R-SCE-5656169|Reactome:R-SCE-6782135|Reactome:R-SCE-6791226|Reactome:R-SCE-68952|Reactome:R-SCE-68962|Reactome:R-SCE-69091|Reactome:R-SCE-69166|Reactome:R-SCE-69183|Reactome:R-SPO-110312|Reactome:R-SPO-110314|Reactome:R-SPO-113501|Reactome:R-SPO-174437|Reactome:R-SPO-426486|Reactome:R-SPO-426496|Reactome:R-SPO-5358565|Reactome:R-SPO-5358606|Reactome:R-SPO-5578749|Reactome:R-SPO-5651801|Reactome:R-SPO-5655862|Reactome:R-SPO-5656121|Reactome:R-SPO-5656169|Reactome:R-SPO-5696397|Reactome:R-SPO-5696400|Reactome:R-SPO-6782135|Reactome:R-SPO-6782210|Reactome:R-SPO-6791226|Reactome:R-SPO-68952|Reactome:R-SPO-68962|Reactome:R-SPO-69091|Reactome:R-SPO-69166|Reactome:R-SPO-69183|Reactome:R-XTR-203927|Reactome:R-XTR-426486|Reactome:R-XTR-426496|Reactome:R-XTR-429947|Reactome:R-XTR-5578749|Reactome:R-XTR-6804115\n",
            "NC_008720.1_39\t3f88522bfd3eb3a132b8b616df7d4608\t859\tGene3D\tG3DSA:1.20.1060.10\tTaq DNA Polymerase; Chain T, domain 4\t414\t535\t9.0E-12\tT\t22-10-2024\t-\t-\t-\t-\n",
            "NC_008720.1_39\t3f88522bfd3eb3a132b8b616df7d4608\t859\tSUPERFAMILY\tSSF56672\tDNA/RNA polymerases\t366\t796\t2.45E-64\tT\t22-10-2024\tIPR043502\tDNA/RNA polymerase superfamily\t-\tMetaCyc:PWY-102|MetaCyc:PWY-1061|MetaCyc:PWY-1187|MetaCyc:PWY-2083|MetaCyc:PWY-3542|MetaCyc:PWY-3602|MetaCyc:PWY-361|MetaCyc:PWY-4021|MetaCyc:PWY-4161|MetaCyc:PWY-4202|MetaCyc:PWY-4801|MetaCyc:PWY-4922|MetaCyc:PWY-5035|MetaCyc:PWY-5036|MetaCyc:PWY-5047|MetaCyc:PWY-5048|MetaCyc:PWY-5059|MetaCyc:PWY-5070|MetaCyc:PWY-5105|MetaCyc:PWY-5139|MetaCyc:PWY-5268|MetaCyc:PWY-5284|MetaCyc:PWY-5292|MetaCyc:PWY-5301|MetaCyc:PWY-5305|MetaCyc:PWY-5307|MetaCyc:PWY-5313|MetaCyc:PWY-5317|MetaCyc:PWY-5318|MetaCyc:PWY-5349|MetaCyc:PWY-5353|MetaCyc:PWY-5397|MetaCyc:PWY-5400|MetaCyc:PWY-5473|MetaCyc:PWY-5475|MetaCyc:PWY-5477|MetaCyc:PWY-5479|MetaCyc:PWY-5660|MetaCyc:PWY-5665|MetaCyc:PWY-5679|MetaCyc:PWY-5710|MetaCyc:PWY-5729|MetaCyc:PWY-5748|MetaCyc:PWY-5765|MetaCyc:PWY-5773|MetaCyc:PWY-5794|MetaCyc:PWY-5846|MetaCyc:PWY-5875|MetaCyc:PWY-5883|MetaCyc:PWY-5903|MetaCyc:PWY-5975|MetaCyc:PWY-5984|MetaCyc:PWY-5987|MetaCyc:PWY-5994|MetaCyc:PWY-601|MetaCyc:PWY-6027|MetaCyc:PWY-6032|MetaCyc:PWY-6036|MetaCyc:PWY-6039|MetaCyc:PWY-6045|MetaCyc:PWY-6056|MetaCyc:PWY-6085|MetaCyc:PWY-6086|MetaCyc:PWY-6148|MetaCyc:PWY-6153|MetaCyc:PWY-6154|MetaCyc:PWY-6286|MetaCyc:PWY-6310|MetaCyc:PWY-6312|MetaCyc:PWY-6314|MetaCyc:PWY-6316|MetaCyc:PWY-6320|MetaCyc:PWY-6322|MetaCyc:PWY-6339|MetaCyc:PWY-6346|MetaCyc:PWY-6373|MetaCyc:PWY-6378|MetaCyc:PWY-6379|MetaCyc:PWY-6397|MetaCyc:PWY-6407|MetaCyc:PWY-6427|MetaCyc:PWY-6442|MetaCyc:PWY-6453|MetaCyc:PWY-6477|MetaCyc:PWY-6495|MetaCyc:PWY-6545|MetaCyc:PWY-6581|MetaCyc:PWY-6626|MetaCyc:PWY-6627|MetaCyc:PWY-6672|MetaCyc:PWY-6673|MetaCyc:PWY-6679|MetaCyc:PWY-6682|MetaCyc:PWY-6689|MetaCyc:PWY-6722|MetaCyc:PWY-6736|MetaCyc:PWY-6739|MetaCyc:PWY-6749|MetaCyc:PWY-6763|MetaCyc:PWY-6795|MetaCyc:PWY-6799|MetaCyc:PWY-6835|MetaCyc:PWY-6842|MetaCyc:PWY-6915|MetaCyc:PWY-6919|MetaCyc:PWY-6920|MetaCyc:PWY-6922|MetaCyc:PWY-6930|MetaCyc:PWY-6944|MetaCyc:PWY-6945|MetaCyc:PWY-6946|MetaCyc:PWY-6948|MetaCyc:PWY-6955|MetaCyc:PWY-6958|MetaCyc:PWY-6971|MetaCyc:PWY-6973|MetaCyc:PWY-6976|MetaCyc:PWY-6978|MetaCyc:PWY-6998|MetaCyc:PWY-7025|MetaCyc:PWY-7029|MetaCyc:PWY-7045|MetaCyc:PWY-7049|MetaCyc:PWY-7050|MetaCyc:PWY-7053|MetaCyc:PWY-7055|MetaCyc:PWY-7058|MetaCyc:PWY-7072|MetaCyc:PWY-7076|MetaCyc:PWY-7079|MetaCyc:PWY-7100|MetaCyc:PWY-7104|MetaCyc:PWY-7127|MetaCyc:PWY-7135|MetaCyc:PWY-7150|MetaCyc:PWY-7151|MetaCyc:PWY-7155|MetaCyc:PWY-7157|MetaCyc:PWY-7160|MetaCyc:PWY-7161|MetaCyc:PWY-7163|MetaCyc:PWY-7168|MetaCyc:PWY-7171|MetaCyc:PWY-7172|MetaCyc:PWY-7184|MetaCyc:PWY-7185|MetaCyc:PWY-7186|MetaCyc:PWY-7198|MetaCyc:PWY-7210|MetaCyc:PWY-7232|MetaCyc:PWY-7250|MetaCyc:PWY-7261|MetaCyc:PWY-7265|MetaCyc:PWY-7274|MetaCyc:PWY-7280|MetaCyc:PWY-7285|MetaCyc:PWY-7298|MetaCyc:PWY-7301|MetaCyc:PWY-7318|MetaCyc:PWY-7325|MetaCyc:PWY-7352|MetaCyc:PWY-7354|MetaCyc:PWY-7363|MetaCyc:PWY-7375|MetaCyc:PWY-7379|MetaCyc:PWY-7382|MetaCyc:PWY-7398|MetaCyc:PWY-7401|MetaCyc:PWY-7405|MetaCyc:PWY-7407|MetaCyc:PWY-7412|MetaCyc:PWY-7415|MetaCyc:PWY-7419|MetaCyc:PWY-7439|MetaCyc:PWY-7440|MetaCyc:PWY-7448|MetaCyc:PWY-7450|MetaCyc:PWY-7452|MetaCyc:PWY-7458|MetaCyc:PWY-7460|MetaCyc:PWY-7461|MetaCyc:PWY-7464|MetaCyc:PWY-7465|MetaCyc:PWY-7470|MetaCyc:PWY-7471|MetaCyc:PWY-7473|MetaCyc:PWY-7474|MetaCyc:PWY-7475|MetaCyc:PWY-7483|MetaCyc:PWY-7485|MetaCyc:PWY-7498|MetaCyc:PWY-7517|MetaCyc:PWY-7529|MetaCyc:PWY-7530|MetaCyc:PWY-7532|MetaCyc:PWY-7533|MetaCyc:PWY-7534|MetaCyc:PWY-7543|MetaCyc:PWY-7547|MetaCyc:PWY-7555|MetaCyc:PWY-7561|MetaCyc:PWY-7563|MetaCyc:PWY-7564|MetaCyc:PWY-7565|MetaCyc:PWY-7569|MetaCyc:PWY-7570|MetaCyc:PWY-7577|MetaCyc:PWY-7583|MetaCyc:PWY-7585|MetaCyc:PWY-7591|MetaCyc:PWY-7592|MetaCyc:PWY-7599|MetaCyc:PWY-7601|MetaCyc:PWY-7602|MetaCyc:PWY-7606|MetaCyc:PWY-7607|MetaCyc:PWY-7608|MetaCyc:PWY-761|MetaCyc:PWY-7612|MetaCyc:PWY-7614|MetaCyc:PWY-7621|MetaCyc:PWY-7624|MetaCyc:PWY-7629|MetaCyc:PWY-7631|MetaCyc:PWY-7632|MetaCyc:PWY-7643|MetaCyc:PWY-7648|MetaCyc:PWY-7649|MetaCyc:PWY-7653|MetaCyc:PWY-7655|MetaCyc:PWY-7656|MetaCyc:PWY-7659|MetaCyc:PWY-7660|MetaCyc:PWY-7661|MetaCyc:PWY-7667|MetaCyc:PWY-7668|MetaCyc:PWY-7669|MetaCyc:PWY-7670|MetaCyc:PWY-7671|MetaCyc:PWY-7672|MetaCyc:PWY-7673|MetaCyc:PWY-7677|MetaCyc:PWY-7679|MetaCyc:PWY-7687|MetaCyc:PWY-7688|MetaCyc:PWY-7689|MetaCyc:PWY-7690|MetaCyc:PWY-7691|MetaCyc:PWY-7692|MetaCyc:PWY-7693|MetaCyc:PWY-7694|MetaCyc:PWY-7695|MetaCyc:PWY-7696|MetaCyc:PWY-7702|MetaCyc:PWY-7705|MetaCyc:PWY-7706|MetaCyc:PWY-7708|MetaCyc:PWY-7711|MetaCyc:PWY-7713|MetaCyc:PWY-7714|MetaCyc:PWY-7716|MetaCyc:PWY-7717|MetaCyc:PWY-7719|MetaCyc:PWY-7726|MetaCyc:PWY-7727|MetaCyc:PWY-7728|MetaCyc:PWY-7729|MetaCyc:PWY-7730|MetaCyc:PWY-7735|MetaCyc:PWY-7737|MetaCyc:PWY-7738|MetaCyc:PWY-7739|MetaCyc:PWY-7741|MetaCyc:PWY-7742|MetaCyc:PWY-7743|MetaCyc:PWY-7745|MetaCyc:PWY-7746|MetaCyc:PWY-7751|MetaCyc:PWY-7765|MetaCyc:PWY-7769|MetaCyc:PWY-7811|MetaCyc:PWY-7815|MetaCyc:PWY-7816|MetaCyc:PWY-7817|MetaCyc:PWY-7818|MetaCyc:PWY-7821|MetaCyc:PWY-7826|MetaCyc:PWY-7884|MetaCyc:PWY-7888|MetaCyc:PWY-7904|MetaCyc:PWY-7907|MetaCyc:PWY-7930|MetaCyc:PWY-7940|MetaCyc:PWY-7950|MetaCyc:PWY-7954|MetaCyc:PWY-7977|MetaCyc:PWY-7983|MetaCyc:PWY-7984|MetaCyc:PWY-7986|MetaCyc:PWY-7987|MetaCyc:PWY-7988|MetaCyc:PWY-7989|MetaCyc:PWY-8012|MetaCyc:PWY-8031|MetaCyc:PWY-8032|MetaCyc:PWY-8035|MetaCyc:PWY-8036|MetaCyc:PWY-8038|MetaCyc:PWY-8040|MetaCyc:PWY-8045|MetaCyc:PWY-8047|MetaCyc:PWY-8049|MetaCyc:PWY-8051|MetaCyc:PWY-8053|MetaCyc:PWY-8055|MetaCyc:PWY-8058|MetaCyc:PWY-8075|MetaCyc:PWY-8076|MetaCyc:PWY-8077|MetaCyc:PWY-8080|MetaCyc:PWY-8082|MetaCyc:PWY-8083|MetaCyc:PWY-8084|MetaCyc:PWY-8095|MetaCyc:PWY-8096|MetaCyc:PWY-8100|MetaCyc:PWY-8103|MetaCyc:PWY-8104|MetaCyc:PWY-8116|MetaCyc:PWY-8117|MetaCyc:PWY-8122|MetaCyc:PWY-8133|MetaCyc:PWY-8151|MetaCyc:PWY-8152|MetaCyc:PWY-8157|MetaCyc:PWY-8166|MetaCyc:PWY-8172|MetaCyc:PWY-8179|MetaCyc:PWY-8210|MetaCyc:PWY-8212|MetaCyc:PWY-8231|MetaCyc:PWY-8238|MetaCyc:PWY-8243|MetaCyc:PWY-8257|MetaCyc:PWY-8272|MetaCyc:PWY-8326|MetaCyc:PWY-8327|MetaCyc:PWY-8337|MetaCyc:PWY-8343|MetaCyc:PWY-8358|MetaCyc:PWY-8360|MetaCyc:PWY-8361|MetaCyc:PWY-8364|MetaCyc:PWY-8366|MetaCyc:PWY-8367|MetaCyc:PWY-8368|MetaCyc:PWY-8371|MetaCyc:PWY-8374|MetaCyc:PWY-8379|MetaCyc:PWY-8380|MetaCyc:PWY-8381|MetaCyc:PWY-84|MetaCyc:PWY-8407|MetaCyc:PWY-8408|MetaCyc:PWY-8424|MetaCyc:PWY-8426|MetaCyc:PWY-8434|MetaCyc:PWY-8437|MetaCyc:PWY-8438|MetaCyc:PWY-8447|MetaCyc:PWY-8463|MetaCyc:PWY-8464|MetaCyc:PWYG-321|Reactome:R-CEL-110314|Reactome:R-CEL-5651801|Reactome:R-CEL-5655862|Reactome:R-CEL-5656169|Reactome:R-CEL-5696397|Reactome:R-CEL-5696400|Reactome:R-CEL-6782135|Reactome:R-CEL-6782210|Reactome:R-CEL-69091|Reactome:R-CEL-69166|Reactome:R-CEL-69183|Reactome:R-DDI-110314|Reactome:R-DDI-113501|Reactome:R-DDI-5651801|Reactome:R-DDI-5656169|Reactome:R-DDI-5696397|Reactome:R-DDI-6782135|Reactome:R-DDI-6782210|Reactome:R-DDI-68952|Reactome:R-DDI-68962|Reactome:R-DDI-69091|Reactome:R-DDI-69166|Reactome:R-DDI-69183|Reactome:R-DME-110312|Reactome:R-DME-110314|Reactome:R-DME-110320|Reactome:R-DME-113501|Reactome:R-DME-5651801|Reactome:R-DME-5655862|Reactome:R-DME-5656121|Reactome:R-DME-5656169|Reactome:R-DME-5685939|Reactome:R-DME-5696400|Reactome:R-DME-6782135|Reactome:R-DME-68952|Reactome:R-DME-68962|Reactome:R-DME-69091|Reactome:R-DME-69166|Reactome:R-DME-69183|Reactome:R-GGA-353503|Reactome:R-HSA-110312|Reactome:R-HSA-110314|Reactome:R-HSA-110320|Reactome:R-HSA-113501|Reactome:R-HSA-162585|Reactome:R-HSA-162588|Reactome:R-HSA-162592|Reactome:R-HSA-162594|Reactome:R-HSA-163282|Reactome:R-HSA-164516|Reactome:R-HSA-164525|Reactome:R-HSA-164843|Reactome:R-HSA-171319|Reactome:R-HSA-173107|Reactome:R-HSA-174411|Reactome:R-HSA-174414|Reactome:R-HSA-174417|Reactome:R-HSA-174430|Reactome:R-HSA-174437|Reactome:R-HSA-175474|Reactome:R-HSA-175567|Reactome:R-HSA-177539|Reactome:R-HSA-180689|Reactome:R-HSA-180910|Reactome:R-HSA-191859|Reactome:R-HSA-201722|Reactome:R-HSA-2151201|Reactome:R-HSA-2564830|Reactome:R-HSA-5358565|Reactome:R-HSA-5358606|Reactome:R-HSA-5621480|Reactome:R-HSA-5651801|Reactome:R-HSA-5655862|Reactome:R-HSA-5656121|Reactome:R-HSA-5656169|Reactome:R-HSA-5685939|Reactome:R-HSA-5685942|Reactome:R-HSA-5696397|Reactome:R-HSA-5696400|Reactome:R-HSA-6782135|Reactome:R-HSA-6782210|Reactome:R-HSA-6783310|Reactome:R-HSA-68952|Reactome:R-HSA-68962|Reactome:R-HSA-69091|Reactome:R-HSA-69166|Reactome:R-HSA-69183|Reactome:R-HSA-69205|Reactome:R-HSA-8854214|Reactome:R-HSA-918233|Reactome:R-HSA-9609690|Reactome:R-HSA-9610379|Reactome:R-HSA-9679504|Reactome:R-HSA-9682706|Reactome:R-HSA-9682708|Reactome:R-HSA-9683439|Reactome:R-HSA-9684325|Reactome:R-HSA-9692916|Reactome:R-HSA-9694271|Reactome:R-HSA-9694301|Reactome:R-HSA-9694676|Reactome:R-HSA-9694686|Reactome:R-HSA-9694786|Reactome:R-HSA-9705671|Reactome:R-HSA-9710421|Reactome:R-HSA-9735869|Reactome:R-HSA-9754678|Reactome:R-HSA-9825895|Reactome:R-MMU-110312|Reactome:R-MMU-110314|Reactome:R-MMU-110320|Reactome:R-MMU-113501|Reactome:R-MMU-163282|Reactome:R-MMU-171319|Reactome:R-MMU-174411|Reactome:R-MMU-174414|Reactome:R-MMU-174417|Reactome:R-MMU-174430|Reactome:R-MMU-174437|Reactome:R-MMU-201722|Reactome:R-MMU-5358565|Reactome:R-MMU-5358606|Reactome:R-MMU-5651801|Reactome:R-MMU-5655862|Reactome:R-MMU-5656121|Reactome:R-MMU-5656169|Reactome:R-MMU-5685939|Reactome:R-MMU-5685942|Reactome:R-MMU-5696397|Reactome:R-MMU-5696400|Reactome:R-MMU-6782135|Reactome:R-MMU-6782210|Reactome:R-MMU-6783310|Reactome:R-MMU-68952|Reactome:R-MMU-68962|Reactome:R-MMU-69091|Reactome:R-MMU-69166|Reactome:R-MMU-69183|Reactome:R-RNO-110314|Reactome:R-RNO-113501|Reactome:R-RNO-171319|Reactome:R-RNO-174411|Reactome:R-RNO-174414|Reactome:R-RNO-174417|Reactome:R-RNO-174430|Reactome:R-RNO-174437|Reactome:R-RNO-201722|Reactome:R-RNO-5358565|Reactome:R-RNO-5358606|Reactome:R-RNO-5651801|Reactome:R-RNO-5656169|Reactome:R-RNO-5685942|Reactome:R-RNO-5696397|Reactome:R-RNO-5696400|Reactome:R-RNO-6782135|Reactome:R-RNO-6782210|Reactome:R-RNO-68952|Reactome:R-RNO-68962|Reactome:R-RNO-69091|Reactome:R-RNO-69166|Reactome:R-RNO-69183|Reactome:R-SCE-110312|Reactome:R-SCE-110320|Reactome:R-SCE-113501|Reactome:R-SCE-163282|Reactome:R-SCE-5655862|Reactome:R-SCE-5656121|Reactome:R-SCE-5656169|Reactome:R-SCE-6782135|Reactome:R-SCE-68952|Reactome:R-SCE-68962|Reactome:R-SCE-69091|Reactome:R-SCE-69166|Reactome:R-SCE-69183|Reactome:R-SPO-110312|Reactome:R-SPO-110314|Reactome:R-SPO-110320|Reactome:R-SPO-113501|Reactome:R-SPO-163282|Reactome:R-SPO-174437|Reactome:R-SPO-5358565|Reactome:R-SPO-5358606|Reactome:R-SPO-5651801|Reactome:R-SPO-5655862|Reactome:R-SPO-5656121|Reactome:R-SPO-5656169|Reactome:R-SPO-5696397|Reactome:R-SPO-5696400|Reactome:R-SPO-6782135|Reactome:R-SPO-6782210|Reactome:R-SPO-68952|Reactome:R-SPO-68962|Reactome:R-SPO-69091|Reactome:R-SPO-69166|Reactome:R-SPO-69183\n",
            "NC_008720.1_62\tc5f1af6d647ad2d8413abcdeea315b95\t87\tPhobius\tCYTOPLASMIC_DOMAIN\tRegion of a membrane-bound protein predicted to be outside the membrane, in the cytoplasm.\t1\t20\t-\tT\t22-10-2024\t-\t-\t-\t-\n"
          ]
        }
      ]
    },
    {
      "cell_type": "markdown",
      "source": [
        "**7. Contagem de termos Gene Ontology.** Vamos contar os termos mais frequentes."
      ],
      "metadata": {
        "id": "0taVAGzS4UbR"
      }
    },
    {
      "cell_type": "code",
      "source": [
        "import pandas as pd\n",
        "from collections import Counter\n",
        "\n",
        "# Carregar o arquivo TSV do InterProScan\n",
        "# Substitua 'interproscan_output.tsv' pelo nome do seu arquivo de entrada\n",
        "df = pd.read_csv('interproscan_m_pox_results.tsv', sep='\\t', header=None)\n",
        "\n",
        "# A coluna que contém os GO terms no arquivo InterProScan está na posição 14 (indexada como 13 em Python)\n",
        "go_terms_column = df[13]\n",
        "\n",
        "# Filtrar apenas as linhas que possuem termos GO\n",
        "go_terms = go_terms_column[go_terms_column != '-'].dropna()\n",
        "\n",
        "# Os termos GO podem estar separados por vírgula, então vamos separá-los\n",
        "go_terms_list = go_terms.str.split('(').str[0].str.strip() # remove a parte (InterPro)\n",
        "\n",
        "# Explodir a lista de termos GO para contar corretamente\n",
        "all_go_terms = go_terms_list.explode()\n",
        "\n",
        "# Contar a frequência de cada GO term\n",
        "go_term_counts = Counter(all_go_terms)\n",
        "\n",
        "# Obter os 10 termos GO mais comuns\n",
        "top_20_go_terms = go_term_counts.most_common(20)\n",
        "\n",
        "# Exibir os 10 termos mais frequentes\n",
        "print(\"Top 20 GO Terms:\")\n",
        "for term, count in top_20_go_terms:\n",
        "    print(f\"GO Term: {term}, Count: {count}\")\n"
      ],
      "metadata": {
        "colab": {
          "base_uri": "https://localhost:8080/"
        },
        "id": "zRGiEzi699xC",
        "outputId": "09c28d8e-5f80-41a6-bc49-4bc46b4bfc3b"
      },
      "execution_count": 7,
      "outputs": [
        {
          "output_type": "stream",
          "name": "stdout",
          "text": [
            "Top 20 GO Terms:\n",
            "GO Term: GO:0003887, Count: 6\n",
            "GO Term: GO:0006231, Count: 4\n",
            "GO Term: GO:0003677, Count: 3\n",
            "GO Term: GO:0003676, Count: 2\n",
            "GO Term: GO:0004519, Count: 1\n",
            "GO Term: GO:0005515, Count: 1\n",
            "GO Term: GO:0008829, Count: 1\n",
            "GO Term: GO:0006229, Count: 1\n"
          ]
        }
      ]
    }
  ]
}